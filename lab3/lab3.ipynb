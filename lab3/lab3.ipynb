{
 "cells": [
  {
   "cell_type": "markdown",
   "metadata": {
    "id": "CvmiakWDcuyf"
   },
   "source": [
    "# Лабораторная работа №3\n",
    "## по предмету \"Системы искусственного интеллекта\"\n",
    "### Выполнила студентка группы БВТ2101 Пьянова Анна\n",
    "\n",
    "Целью работы является изучение методов регуляризации.\n"
   ]
  },
  {
   "cell_type": "markdown",
   "metadata": {
    "id": "YEZ0T1uwj34v"
   },
   "source": [
    "### Задание 1\n",
    "\n",
    "Выгрузите данные из датасета. Изучите колонки, проверьте наличие пропусков. Постройте матрицу корреляции между признаками и целевой переменной. Сделайте выводы, что показывает эта матрица."
   ]
  },
  {
   "cell_type": "code",
   "execution_count": 1,
   "metadata": {},
   "outputs": [],
   "source": [
    "import pandas as pd\n",
    "import numpy as np\n",
    "from sklearn.metrics import mean_squared_error\n",
    "from sklearn.pipeline import Pipeline\n",
    "from sklearn.compose import ColumnTransformer\n",
    "from sklearn.preprocessing import StandardScaler, OneHotEncoder\n",
    "from sklearn.model_selection import train_test_split"
   ]
  },
  {
   "cell_type": "code",
   "execution_count": 2,
   "metadata": {
    "id": "91NHysjQj26f"
   },
   "outputs": [
    {
     "data": {
      "text/html": [
       "<div>\n",
       "<style scoped>\n",
       "    .dataframe tbody tr th:only-of-type {\n",
       "        vertical-align: middle;\n",
       "    }\n",
       "\n",
       "    .dataframe tbody tr th {\n",
       "        vertical-align: top;\n",
       "    }\n",
       "\n",
       "    .dataframe thead th {\n",
       "        text-align: right;\n",
       "    }\n",
       "</style>\n",
       "<table border=\"1\" class=\"dataframe\">\n",
       "  <thead>\n",
       "    <tr style=\"text-align: right;\">\n",
       "      <th></th>\n",
       "      <th>brand</th>\n",
       "      <th>processor_brand</th>\n",
       "      <th>processor_name</th>\n",
       "      <th>processor_gnrtn</th>\n",
       "      <th>ram_gb</th>\n",
       "      <th>ram_type</th>\n",
       "      <th>ssd</th>\n",
       "      <th>hdd</th>\n",
       "      <th>os</th>\n",
       "      <th>os_bit</th>\n",
       "      <th>graphic_card_gb</th>\n",
       "      <th>weight</th>\n",
       "      <th>warranty</th>\n",
       "      <th>Touchscreen</th>\n",
       "      <th>msoffice</th>\n",
       "      <th>Price</th>\n",
       "      <th>rating</th>\n",
       "      <th>Number of Ratings</th>\n",
       "      <th>Number of Reviews</th>\n",
       "    </tr>\n",
       "  </thead>\n",
       "  <tbody>\n",
       "    <tr>\n",
       "      <th>0</th>\n",
       "      <td>ASUS</td>\n",
       "      <td>Intel</td>\n",
       "      <td>Core i3</td>\n",
       "      <td>10th</td>\n",
       "      <td>4 GB</td>\n",
       "      <td>DDR4</td>\n",
       "      <td>0 GB</td>\n",
       "      <td>1024 GB</td>\n",
       "      <td>Windows</td>\n",
       "      <td>64-bit</td>\n",
       "      <td>0 GB</td>\n",
       "      <td>Casual</td>\n",
       "      <td>No warranty</td>\n",
       "      <td>No</td>\n",
       "      <td>No</td>\n",
       "      <td>34649</td>\n",
       "      <td>2 stars</td>\n",
       "      <td>3</td>\n",
       "      <td>0</td>\n",
       "    </tr>\n",
       "    <tr>\n",
       "      <th>1</th>\n",
       "      <td>Lenovo</td>\n",
       "      <td>Intel</td>\n",
       "      <td>Core i3</td>\n",
       "      <td>10th</td>\n",
       "      <td>4 GB</td>\n",
       "      <td>DDR4</td>\n",
       "      <td>0 GB</td>\n",
       "      <td>1024 GB</td>\n",
       "      <td>Windows</td>\n",
       "      <td>64-bit</td>\n",
       "      <td>0 GB</td>\n",
       "      <td>Casual</td>\n",
       "      <td>No warranty</td>\n",
       "      <td>No</td>\n",
       "      <td>No</td>\n",
       "      <td>38999</td>\n",
       "      <td>3 stars</td>\n",
       "      <td>65</td>\n",
       "      <td>5</td>\n",
       "    </tr>\n",
       "    <tr>\n",
       "      <th>2</th>\n",
       "      <td>Lenovo</td>\n",
       "      <td>Intel</td>\n",
       "      <td>Core i3</td>\n",
       "      <td>10th</td>\n",
       "      <td>4 GB</td>\n",
       "      <td>DDR4</td>\n",
       "      <td>0 GB</td>\n",
       "      <td>1024 GB</td>\n",
       "      <td>Windows</td>\n",
       "      <td>64-bit</td>\n",
       "      <td>0 GB</td>\n",
       "      <td>Casual</td>\n",
       "      <td>No warranty</td>\n",
       "      <td>No</td>\n",
       "      <td>No</td>\n",
       "      <td>39999</td>\n",
       "      <td>3 stars</td>\n",
       "      <td>8</td>\n",
       "      <td>1</td>\n",
       "    </tr>\n",
       "    <tr>\n",
       "      <th>3</th>\n",
       "      <td>ASUS</td>\n",
       "      <td>Intel</td>\n",
       "      <td>Core i5</td>\n",
       "      <td>10th</td>\n",
       "      <td>8 GB</td>\n",
       "      <td>DDR4</td>\n",
       "      <td>512 GB</td>\n",
       "      <td>0 GB</td>\n",
       "      <td>Windows</td>\n",
       "      <td>32-bit</td>\n",
       "      <td>2 GB</td>\n",
       "      <td>Casual</td>\n",
       "      <td>No warranty</td>\n",
       "      <td>No</td>\n",
       "      <td>No</td>\n",
       "      <td>69990</td>\n",
       "      <td>3 stars</td>\n",
       "      <td>0</td>\n",
       "      <td>0</td>\n",
       "    </tr>\n",
       "    <tr>\n",
       "      <th>4</th>\n",
       "      <td>ASUS</td>\n",
       "      <td>Intel</td>\n",
       "      <td>Celeron Dual</td>\n",
       "      <td>Not Available</td>\n",
       "      <td>4 GB</td>\n",
       "      <td>DDR4</td>\n",
       "      <td>0 GB</td>\n",
       "      <td>512 GB</td>\n",
       "      <td>Windows</td>\n",
       "      <td>64-bit</td>\n",
       "      <td>0 GB</td>\n",
       "      <td>Casual</td>\n",
       "      <td>No warranty</td>\n",
       "      <td>No</td>\n",
       "      <td>No</td>\n",
       "      <td>26990</td>\n",
       "      <td>3 stars</td>\n",
       "      <td>0</td>\n",
       "      <td>0</td>\n",
       "    </tr>\n",
       "  </tbody>\n",
       "</table>\n",
       "</div>"
      ],
      "text/plain": [
       "    brand processor_brand processor_name processor_gnrtn ram_gb ram_type  \\\n",
       "0    ASUS           Intel        Core i3            10th   4 GB     DDR4   \n",
       "1  Lenovo           Intel        Core i3            10th   4 GB     DDR4   \n",
       "2  Lenovo           Intel        Core i3            10th   4 GB     DDR4   \n",
       "3    ASUS           Intel        Core i5            10th   8 GB     DDR4   \n",
       "4    ASUS           Intel   Celeron Dual   Not Available   4 GB     DDR4   \n",
       "\n",
       "      ssd      hdd       os  os_bit graphic_card_gb  weight     warranty  \\\n",
       "0    0 GB  1024 GB  Windows  64-bit            0 GB  Casual  No warranty   \n",
       "1    0 GB  1024 GB  Windows  64-bit            0 GB  Casual  No warranty   \n",
       "2    0 GB  1024 GB  Windows  64-bit            0 GB  Casual  No warranty   \n",
       "3  512 GB     0 GB  Windows  32-bit            2 GB  Casual  No warranty   \n",
       "4    0 GB   512 GB  Windows  64-bit            0 GB  Casual  No warranty   \n",
       "\n",
       "  Touchscreen msoffice  Price   rating  Number of Ratings  Number of Reviews  \n",
       "0          No       No  34649  2 stars                  3                  0  \n",
       "1          No       No  38999  3 stars                 65                  5  \n",
       "2          No       No  39999  3 stars                  8                  1  \n",
       "3          No       No  69990  3 stars                  0                  0  \n",
       "4          No       No  26990  3 stars                  0                  0  "
      ]
     },
     "execution_count": 2,
     "metadata": {},
     "output_type": "execute_result"
    }
   ],
   "source": [
    "data = pd.read_csv('processor.csv')\n",
    "data.head()"
   ]
  },
  {
   "cell_type": "code",
   "execution_count": 3,
   "metadata": {},
   "outputs": [
    {
     "data": {
      "text/plain": [
       "brand                0\n",
       "processor_brand      0\n",
       "processor_name       0\n",
       "processor_gnrtn      0\n",
       "ram_gb               0\n",
       "ram_type             0\n",
       "ssd                  0\n",
       "hdd                  0\n",
       "os                   0\n",
       "os_bit               0\n",
       "graphic_card_gb      0\n",
       "weight               0\n",
       "warranty             0\n",
       "Touchscreen          0\n",
       "msoffice             0\n",
       "Price                0\n",
       "rating               0\n",
       "Number of Ratings    0\n",
       "Number of Reviews    0\n",
       "dtype: int64"
      ]
     },
     "execution_count": 3,
     "metadata": {},
     "output_type": "execute_result"
    }
   ],
   "source": [
    "data.isnull().sum()"
   ]
  },
  {
   "cell_type": "code",
   "execution_count": 4,
   "metadata": {},
   "outputs": [
    {
     "data": {
      "text/html": [
       "<div>\n",
       "<style scoped>\n",
       "    .dataframe tbody tr th:only-of-type {\n",
       "        vertical-align: middle;\n",
       "    }\n",
       "\n",
       "    .dataframe tbody tr th {\n",
       "        vertical-align: top;\n",
       "    }\n",
       "\n",
       "    .dataframe thead th {\n",
       "        text-align: right;\n",
       "    }\n",
       "</style>\n",
       "<table border=\"1\" class=\"dataframe\">\n",
       "  <thead>\n",
       "    <tr style=\"text-align: right;\">\n",
       "      <th></th>\n",
       "      <th>Price</th>\n",
       "      <th>Number of Ratings</th>\n",
       "      <th>Number of Reviews</th>\n",
       "    </tr>\n",
       "  </thead>\n",
       "  <tbody>\n",
       "    <tr>\n",
       "      <th>Price</th>\n",
       "      <td>1.000000</td>\n",
       "      <td>-0.140392</td>\n",
       "      <td>-0.148738</td>\n",
       "    </tr>\n",
       "    <tr>\n",
       "      <th>Number of Ratings</th>\n",
       "      <td>-0.140392</td>\n",
       "      <td>1.000000</td>\n",
       "      <td>0.989626</td>\n",
       "    </tr>\n",
       "    <tr>\n",
       "      <th>Number of Reviews</th>\n",
       "      <td>-0.148738</td>\n",
       "      <td>0.989626</td>\n",
       "      <td>1.000000</td>\n",
       "    </tr>\n",
       "  </tbody>\n",
       "</table>\n",
       "</div>"
      ],
      "text/plain": [
       "                      Price  Number of Ratings  Number of Reviews\n",
       "Price              1.000000          -0.140392          -0.148738\n",
       "Number of Ratings -0.140392           1.000000           0.989626\n",
       "Number of Reviews -0.148738           0.989626           1.000000"
      ]
     },
     "execution_count": 4,
     "metadata": {},
     "output_type": "execute_result"
    }
   ],
   "source": [
    "data.select_dtypes(include=['int64', 'float64']).corr()"
   ]
  },
  {
   "cell_type": "markdown",
   "metadata": {},
   "source": [
    "Предобрабработка данных"
   ]
  },
  {
   "cell_type": "code",
   "execution_count": 22,
   "metadata": {},
   "outputs": [],
   "source": [
    "X = data.drop('Price', axis=1)\n",
    "y = data['Price']\n",
    "\n",
    "# Определение числовых и категориальных признаков\n",
    "numeric_features = X.select_dtypes(include=['int64', 'float64']).columns\n",
    "categorical_features = X.select_dtypes(include=['object']).columns\n",
    "\n",
    "# Препроцессор для числовых признаков\n",
    "numeric_transformer = Pipeline(steps=[('scaler', StandardScaler())])\n",
    "\n",
    "# Препроцессор для категориальных признаков\n",
    "categorical_transformer = Pipeline(steps=[('onehot', OneHotEncoder(handle_unknown='ignore', sparse_output=False))])\n",
    "\n",
    "# Объединение препроцессоров\n",
    "preprocessor = ColumnTransformer(\n",
    "    transformers=[\n",
    "        ('num', numeric_transformer, numeric_features),\n",
    "        ('cat', categorical_transformer, categorical_features)])\n",
    "\n",
    "# Разделение данных на обучающую, валидационную и тестовую выборки\n",
    "X_train_full, X_test, y_train_full, y_test = train_test_split(X, y, test_size=0.2, random_state=42)\n",
    "X_train, X_val, y_train, y_val = train_test_split(X_train_full, y_train_full, test_size=0.25, random_state=42)  # 0.25 * 0.8 = 0.2\n",
    "\n",
    "# Применение препроцессора\n",
    "X_train = preprocessor.fit_transform(X_train)\n",
    "X_val = preprocessor.transform(X_val)\n",
    "X_test = preprocessor.transform(X_test)"
   ]
  },
  {
   "cell_type": "markdown",
   "metadata": {
    "id": "hgqsngyck7xl"
   },
   "source": [
    "### Задание 2\n",
    "\n",
    "Реализуйте с нуля алгоритм линеной регрессии  без использования регуляризации."
   ]
  },
  {
   "cell_type": "code",
   "execution_count": 31,
   "metadata": {
    "id": "Ch5WytHwlGpd"
   },
   "outputs": [],
   "source": [
    "class LinearRegression:\n",
    "    def __init__(self):\n",
    "        self.weights = None\n",
    "    \n",
    "    def fit(self, X, y):\n",
    "        # Добавляем столбец единиц для учета свободного члена (bias)\n",
    "        X = np.hstack([np.ones((X.shape[0], 1)), X])\n",
    "        \n",
    "        # Вычисляем веса по формуле МНК\n",
    "        self.weights = np.linalg.inv(X.T @ X) @ X.T @ y\n",
    "    \n",
    "    def predict(self, X):\n",
    "        # Добавляем столбец единиц для учета свободного члена (bias)\n",
    "        X = np.hstack([np.ones((X.shape[0], 1)), X])\n",
    "        \n",
    "        # Предсказываем значения\n",
    "        return X @ self.weights\n",
    "    \n",
    "    def score(self, X, y):\n",
    "        # Вычисляем RMSE\n",
    "        y_pred = self.predict(X)\n",
    "        return mean_squared_error(y, y_pred)"
   ]
  },
  {
   "cell_type": "markdown",
   "metadata": {
    "id": "og_HzsA2lHyX"
   },
   "source": [
    "Обучите модель."
   ]
  },
  {
   "cell_type": "code",
   "execution_count": 32,
   "metadata": {
    "id": "nwDuPoSHlKDP"
   },
   "outputs": [
    {
     "name": "stdout",
     "output_type": "stream",
     "text": [
      "Train MSE: 858188232903408.12\n",
      "Validation MSE: 5128161810703051267191134887013836128256.00\n",
      "Test MSE: 1442148356233143.50\n"
     ]
    }
   ],
   "source": [
    "model = LinearRegression()\n",
    "model.fit(X_train, y_train)\n",
    "\n",
    "# Оценка модели\n",
    "train_score = model.score(X_train, y_train)\n",
    "val_score = model.score(X_val, y_val)\n",
    "test_score = model.score(X_test, y_test)\n",
    "\n",
    "print(f\"Train MSE: {train_score:.2f}\")\n",
    "print(f\"Validation MSE: {val_score:.2f}\")\n",
    "print(f\"Test MSE: {test_score:.2f}\")"
   ]
  },
  {
   "cell_type": "markdown",
   "metadata": {
    "id": "eWc9D163lKPB"
   },
   "source": [
    "### Задание 3\n",
    "\n",
    "Реализуйте с нуля алгоритм линейной регрессии для многоклассовой классификации с L1-регуляризацией."
   ]
  },
  {
   "cell_type": "code",
   "execution_count": 25,
   "metadata": {
    "id": "LRuuj9PDli5A"
   },
   "outputs": [],
   "source": [
    "class L1LinearRegression:\n",
    "    def __init__(self, alpha=1.0, learning_rate=0.01, n_iterations=1000):\n",
    "            self.alpha = alpha  # Коэффициент регуляризации\n",
    "            self.learning_rate = learning_rate  # Скорость обучения\n",
    "            self.n_iterations = n_iterations  # Количество итераций\n",
    "            self.weights = None\n",
    "    \n",
    "    def fit(self, X, y):\n",
    "        # Добавляем столбец единиц для учета свободного члена (bias)\n",
    "        X = np.hstack([np.ones((X.shape[0], 1)), X])\n",
    "        \n",
    "        # Инициализируем веса случайными значениями\n",
    "        self.weights = np.random.randn(X.shape[1])\n",
    "        \n",
    "        # Градиентный спуск\n",
    "        for _ in range(self.n_iterations):\n",
    "            gradient = self._compute_gradient(X, y)\n",
    "            self.weights -= self.learning_rate * gradient\n",
    "\n",
    "    def _compute_gradient(self, X, y):\n",
    "        y_pred = X @ self.weights\n",
    "        error = y_pred - y\n",
    "        gradient = (X.T @ error) / len(y) + self.alpha * np.sign(self.weights)\n",
    "        return gradient\n",
    "\n",
    "    def predict(self, X):\n",
    "        # Добавляем столбец единиц для учета свободного члена (bias)\n",
    "        X = np.hstack([np.ones((X.shape[0], 1)), X])\n",
    "        \n",
    "        # Предсказываем значения\n",
    "        return X @ self.weights\n",
    "\n",
    "    def score(self, X, y):\n",
    "        # Вычисляем RMSE\n",
    "        y_pred = self.predict(X)\n",
    "        return mean_squared_error(y, y_pred)"
   ]
  },
  {
   "cell_type": "markdown",
   "metadata": {
    "id": "A5EpvZcvli_8"
   },
   "source": [
    "Обучите модель."
   ]
  },
  {
   "cell_type": "code",
   "execution_count": 26,
   "metadata": {
    "id": "amg6aqULlovg"
   },
   "outputs": [
    {
     "name": "stdout",
     "output_type": "stream",
     "text": [
      "Train MSE: 708454746.98\n",
      "Validation MSE: 556121526.72\n",
      "Test MSE: 773901757.22\n"
     ]
    }
   ],
   "source": [
    "model = L1LinearRegression()\n",
    "model.fit(X_train, y_train)\n",
    "\n",
    "# Оценка модели\n",
    "train_score = model.score(X_train, y_train)\n",
    "val_score = model.score(X_val, y_val)\n",
    "test_score = model.score(X_test, y_test)\n",
    "\n",
    "print(f\"Train MSE: {train_score:.2f}\")\n",
    "print(f\"Validation MSE: {val_score:.2f}\")\n",
    "print(f\"Test MSE: {test_score:.2f}\")"
   ]
  },
  {
   "cell_type": "markdown",
   "metadata": {
    "id": "RYFhErkHlmFV"
   },
   "source": [
    "### Задание 4\n",
    "\n",
    "Реализуйте с нуля алгоритм линейной регрессии для многоклассовой классификации с L2-регуляризацией."
   ]
  },
  {
   "cell_type": "code",
   "execution_count": 27,
   "metadata": {
    "id": "fUQ70y9Plq9u"
   },
   "outputs": [],
   "source": [
    "class L2LinearRegression:\n",
    "  def __init__(self, alpha=1.0, learning_rate=0.01, n_iterations=1000):\n",
    "        self.alpha = alpha\n",
    "        self.learning_rate = learning_rate\n",
    "        self.n_iterations = n_iterations\n",
    "        self.weights = None\n",
    "    \n",
    "  def fit(self, X, y):\n",
    "      # Добавляем столбец единиц для учета свободного члена (bias)\n",
    "      X = np.hstack([np.ones((X.shape[0], 1)), X])\n",
    "      \n",
    "      # Инициализируем веса случайными значениями\n",
    "      self.weights = np.random.randn(X.shape[1])\n",
    "      \n",
    "      # Градиентный спуск\n",
    "      for _ in range(self.n_iterations):\n",
    "          gradient = self._compute_gradient(X, y)\n",
    "          self.weights -= self.learning_rate * gradient\n",
    "  \n",
    "  def _compute_gradient(self, X, y):\n",
    "      y_pred = X @ self.weights\n",
    "      error = y_pred - y\n",
    "      gradient = (X.T @ error) / len(y) + 2 * self.alpha * self.weights\n",
    "      return gradient\n",
    "  \n",
    "  def predict(self, X):\n",
    "      # Добавляем столбец единиц для учета свободного члена (bias)\n",
    "      X = np.hstack([np.ones((X.shape[0], 1)), X])\n",
    "      \n",
    "      # Предсказываем значения\n",
    "      return X @ self.weights\n",
    "  \n",
    "  def score(self, X, y):\n",
    "      # Вычисляем RMSE\n",
    "      y_pred = self.predict(X)\n",
    "      return mean_squared_error(y, y_pred)"
   ]
  },
  {
   "cell_type": "markdown",
   "metadata": {
    "id": "ASfoCDdSlrJh"
   },
   "source": [
    "Обучите модель."
   ]
  },
  {
   "cell_type": "code",
   "execution_count": 28,
   "metadata": {
    "id": "78PA6hmwl-1p"
   },
   "outputs": [
    {
     "name": "stdout",
     "output_type": "stream",
     "text": [
      "Train MSE: 2040245298.25\n",
      "Validation MSE: 1941948540.21\n",
      "Test MSE: 1984496320.68\n"
     ]
    }
   ],
   "source": [
    "model = L2LinearRegression()\n",
    "model.fit(X_train, y_train)\n",
    "\n",
    "# Оценка модели\n",
    "train_score = model.score(X_train, y_train)\n",
    "val_score = model.score(X_val, y_val)\n",
    "test_score = model.score(X_test, y_test)\n",
    "\n",
    "print(f\"Train MSE: {train_score:.2f}\")\n",
    "print(f\"Validation MSE: {val_score:.2f}\")\n",
    "print(f\"Test MSE: {test_score:.2f}\")"
   ]
  },
  {
   "cell_type": "markdown",
   "metadata": {
    "id": "ssFzfn1Pl4AI"
   },
   "source": [
    "### Задание 5\n",
    "\n",
    "Из результатов обучения можно сделать вывод, что лучшей оказалась модель линейной регрессии с L1-регуляризацией, так как средне-квадратичная ошибка на тренировочной, валидационной и тестовой выборках оказалась минимальной."
   ]
  }
 ],
 "metadata": {
  "colab": {
   "provenance": []
  },
  "kernelspec": {
   "display_name": "Python 3",
   "name": "python3"
  },
  "language_info": {
   "codemirror_mode": {
    "name": "ipython",
    "version": 3
   },
   "file_extension": ".py",
   "mimetype": "text/x-python",
   "name": "python",
   "nbconvert_exporter": "python",
   "pygments_lexer": "ipython3",
   "version": "3.11.9"
  }
 },
 "nbformat": 4,
 "nbformat_minor": 0
}
