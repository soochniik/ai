{
 "cells": [
  {
   "cell_type": "markdown",
   "metadata": {
    "id": "s6F3iVlwuy8D"
   },
   "source": [
    "# Лабораторная работа №5 \"Распознавание объектов на фотографиях\"\n",
    "### Выполнила студентка группы БВТ2101 Пьянова Анна Олеговна"
   ]
  },
  {
   "cell_type": "markdown",
   "metadata": {
    "id": "jbNnLBQGvHy7"
   },
   "source": [
    "### Цель работы:\n",
    "Распознавание объектов на фотографиях (Object Recognition in Photographs)\n",
    "CIFAR-10 (классификация небольших изображений по десяти классам: самолет,\n",
    "автомобиль, птица, кошка, олень, собака, лягушка, лошадь, корабль и грузовик).\n",
    "\n",
    "### Задачи:\n",
    "- Ознакомиться со сверточными нейронными сетями\n",
    "- Изучить построение модели в Keras в функциональном виде\n",
    "- Изучить работу слоя разреживания (Dropout)\n"
   ]
  },
  {
   "cell_type": "markdown",
   "metadata": {
    "id": "WGR6lrkXve1X"
   },
   "source": [
    "### Выполнение работы"
   ]
  },
  {
   "cell_type": "code",
   "execution_count": 1,
   "metadata": {
    "id": "Byd1yi2UfiEn"
   },
   "outputs": [],
   "source": [
    "import numpy as np\n",
    "import tensorflow as tf\n",
    "import matplotlib.pyplot as plt\n",
    "from tensorflow.keras.models import Sequential\n",
    "from tensorflow.keras.layers import Input, Conv2D, MaxPooling2D, Flatten, Dense, Dropout\n",
    "from tensorflow.keras.utils import to_categorical\n",
    "from tensorflow.keras.datasets import cifar10\n",
    "from PIL import Image"
   ]
  },
  {
   "cell_type": "markdown",
   "metadata": {
    "id": "isItR2WSyHLA"
   },
   "source": [
    "Определение параметров модели"
   ]
  },
  {
   "cell_type": "code",
   "execution_count": 2,
   "metadata": {
    "id": "hS9ozQn0f-8v"
   },
   "outputs": [],
   "source": [
    "batch_size = 32\n",
    "num_epochs = 15\n",
    "kernel_size = 3\n",
    "pool_size = 2\n",
    "conv_depth_1 = 32\n",
    "conv_depth_2 = 64\n",
    "drop_prob_1 = 0.25\n",
    "drop_prob_2 = 0.5\n",
    "hidden_size = 512"
   ]
  },
  {
   "cell_type": "markdown",
   "metadata": {
    "id": "hKvqGuuUyS3k"
   },
   "source": [
    "Загрузка и предобработка данных"
   ]
  },
  {
   "cell_type": "code",
   "execution_count": 4,
   "metadata": {
    "colab": {
     "base_uri": "https://localhost:8080/"
    },
    "id": "sk3Pj-Q5z954",
    "outputId": "4383d87e-35c4-43cf-fc8d-20cb84419f94"
   },
   "outputs": [],
   "source": [
    "# Загрузка данных CIFAR-10\n",
    "(X_train, y_train), (X_test, y_test) = cifar10.load_data()\n",
    "\n",
    "# Предобработка данных\n",
    "num_train, height, width, depth = X_train.shape\n",
    "num_test = X_test.shape[0]\n",
    "num_classes = np.unique(y_train).shape[0]\n",
    "\n",
    "X_train = X_train.astype('float32')\n",
    "X_test = X_test.astype('float32')\n",
    "X_train /= np.max(X_train)\n",
    "X_test /= np.max(X_train)\n",
    "\n",
    "Y_train = to_categorical(y_train, num_classes)\n",
    "Y_test = to_categorical(y_test, num_classes)"
   ]
  },
  {
   "cell_type": "markdown",
   "metadata": {
    "id": "rL3YZg3xy1TP"
   },
   "source": [
    "Модель с изначальными параметрами"
   ]
  },
  {
   "cell_type": "code",
   "execution_count": 5,
   "metadata": {
    "colab": {
     "base_uri": "https://localhost:8080/"
    },
    "id": "4W6HUuonjvmp",
    "outputId": "8f778abb-1198-4d27-8659-13f331748a6d"
   },
   "outputs": [],
   "source": [
    "# Создание модели\n",
    "model = Sequential()\n",
    "\n",
    "# Первый блок: Conv -> Conv -> Pool (с dropout на слое пулинга)\n",
    "model.add(Input(shape=(height, width, depth)))\n",
    "model.add(Conv2D(conv_depth_1, (kernel_size, kernel_size), padding='same', activation='relu'))\n",
    "model.add(Conv2D(conv_depth_1, (kernel_size, kernel_size), padding='same', activation='relu'))\n",
    "model.add(MaxPooling2D(pool_size=(pool_size, pool_size)))\n",
    "model.add(Dropout(drop_prob_1))\n",
    "\n",
    "# Второй блок: Conv -> Conv -> Pool (с dropout на слое пулинга)\n",
    "model.add(Conv2D(conv_depth_2, (kernel_size, kernel_size), padding='same', activation='relu'))\n",
    "model.add(Conv2D(conv_depth_2, (kernel_size, kernel_size), padding='same', activation='relu'))\n",
    "model.add(MaxPooling2D(pool_size=(pool_size, pool_size)))\n",
    "model.add(Dropout(drop_prob_1))\n",
    "\n",
    "# Преобразование в 1D и полносвязный слой с ReLU и dropout\n",
    "model.add(Flatten())\n",
    "model.add(Dense(hidden_size, activation='relu'))\n",
    "model.add(Dropout(drop_prob_2))\n",
    "\n",
    "# Выходной слой с softmax\n",
    "model.add(Dense(num_classes, activation='softmax'))"
   ]
  },
  {
   "cell_type": "code",
   "execution_count": 6,
   "metadata": {
    "colab": {
     "base_uri": "https://localhost:8080/"
    },
    "id": "v8KC-5GRn9h2",
    "outputId": "9688bcb9-5b6a-41a1-b31f-e1f3866016fd"
   },
   "outputs": [
    {
     "name": "stdout",
     "output_type": "stream",
     "text": [
      "Epoch 1/15\n",
      "\u001b[1m1407/1407\u001b[0m \u001b[32m━━━━━━━━━━━━━━━━━━━━\u001b[0m\u001b[37m\u001b[0m \u001b[1m27s\u001b[0m 18ms/step - accuracy: 0.3323 - loss: 1.8108 - val_accuracy: 0.6056 - val_loss: 1.1197\n",
      "Epoch 2/15\n",
      "\u001b[1m1407/1407\u001b[0m \u001b[32m━━━━━━━━━━━━━━━━━━━━\u001b[0m\u001b[37m\u001b[0m \u001b[1m28s\u001b[0m 20ms/step - accuracy: 0.5790 - loss: 1.1722 - val_accuracy: 0.6694 - val_loss: 0.9528\n",
      "Epoch 3/15\n",
      "\u001b[1m1407/1407\u001b[0m \u001b[32m━━━━━━━━━━━━━━━━━━━━\u001b[0m\u001b[37m\u001b[0m \u001b[1m30s\u001b[0m 21ms/step - accuracy: 0.6518 - loss: 0.9930 - val_accuracy: 0.7062 - val_loss: 0.8361\n",
      "Epoch 4/15\n",
      "\u001b[1m1407/1407\u001b[0m \u001b[32m━━━━━━━━━━━━━━━━━━━━\u001b[0m\u001b[37m\u001b[0m \u001b[1m30s\u001b[0m 21ms/step - accuracy: 0.6817 - loss: 0.8918 - val_accuracy: 0.7376 - val_loss: 0.7587\n",
      "Epoch 5/15\n",
      "\u001b[1m1407/1407\u001b[0m \u001b[32m━━━━━━━━━━━━━━━━━━━━\u001b[0m\u001b[37m\u001b[0m \u001b[1m28s\u001b[0m 20ms/step - accuracy: 0.7198 - loss: 0.8029 - val_accuracy: 0.7576 - val_loss: 0.7091\n",
      "Epoch 6/15\n",
      "\u001b[1m1407/1407\u001b[0m \u001b[32m━━━━━━━━━━━━━━━━━━━━\u001b[0m\u001b[37m\u001b[0m \u001b[1m24s\u001b[0m 17ms/step - accuracy: 0.7398 - loss: 0.7469 - val_accuracy: 0.7430 - val_loss: 0.7470\n",
      "Epoch 7/15\n",
      "\u001b[1m1407/1407\u001b[0m \u001b[32m━━━━━━━━━━━━━━━━━━━━\u001b[0m\u001b[37m\u001b[0m \u001b[1m25s\u001b[0m 17ms/step - accuracy: 0.7541 - loss: 0.6941 - val_accuracy: 0.7648 - val_loss: 0.6761\n",
      "Epoch 8/15\n",
      "\u001b[1m1407/1407\u001b[0m \u001b[32m━━━━━━━━━━━━━━━━━━━━\u001b[0m\u001b[37m\u001b[0m \u001b[1m25s\u001b[0m 17ms/step - accuracy: 0.7714 - loss: 0.6455 - val_accuracy: 0.7628 - val_loss: 0.6958\n",
      "Epoch 9/15\n",
      "\u001b[1m1407/1407\u001b[0m \u001b[32m━━━━━━━━━━━━━━━━━━━━\u001b[0m\u001b[37m\u001b[0m \u001b[1m24s\u001b[0m 17ms/step - accuracy: 0.7835 - loss: 0.6186 - val_accuracy: 0.7784 - val_loss: 0.6611\n",
      "Epoch 10/15\n",
      "\u001b[1m1407/1407\u001b[0m \u001b[32m━━━━━━━━━━━━━━━━━━━━\u001b[0m\u001b[37m\u001b[0m \u001b[1m24s\u001b[0m 17ms/step - accuracy: 0.7936 - loss: 0.5803 - val_accuracy: 0.7840 - val_loss: 0.6335\n",
      "Epoch 11/15\n",
      "\u001b[1m1407/1407\u001b[0m \u001b[32m━━━━━━━━━━━━━━━━━━━━\u001b[0m\u001b[37m\u001b[0m \u001b[1m24s\u001b[0m 17ms/step - accuracy: 0.8030 - loss: 0.5552 - val_accuracy: 0.7840 - val_loss: 0.6483\n",
      "Epoch 12/15\n",
      "\u001b[1m1407/1407\u001b[0m \u001b[32m━━━━━━━━━━━━━━━━━━━━\u001b[0m\u001b[37m\u001b[0m \u001b[1m24s\u001b[0m 17ms/step - accuracy: 0.8124 - loss: 0.5329 - val_accuracy: 0.7810 - val_loss: 0.6644\n",
      "Epoch 13/15\n",
      "\u001b[1m1407/1407\u001b[0m \u001b[32m━━━━━━━━━━━━━━━━━━━━\u001b[0m\u001b[37m\u001b[0m \u001b[1m24s\u001b[0m 17ms/step - accuracy: 0.8146 - loss: 0.5237 - val_accuracy: 0.7940 - val_loss: 0.6348\n",
      "Epoch 14/15\n",
      "\u001b[1m1407/1407\u001b[0m \u001b[32m━━━━━━━━━━━━━━━━━━━━\u001b[0m\u001b[37m\u001b[0m \u001b[1m24s\u001b[0m 17ms/step - accuracy: 0.8282 - loss: 0.4915 - val_accuracy: 0.7866 - val_loss: 0.6785\n",
      "Epoch 15/15\n",
      "\u001b[1m1407/1407\u001b[0m \u001b[32m━━━━━━━━━━━━━━━━━━━━\u001b[0m\u001b[37m\u001b[0m \u001b[1m24s\u001b[0m 17ms/step - accuracy: 0.8239 - loss: 0.4931 - val_accuracy: 0.7940 - val_loss: 0.6337\n"
     ]
    },
    {
     "data": {
      "text/plain": [
       "[226.2728271484375, 0.5322999954223633]"
      ]
     },
     "execution_count": 6,
     "metadata": {},
     "output_type": "execute_result"
    }
   ],
   "source": [
    "# Компиляция модели\n",
    "model.compile(loss='categorical_crossentropy', optimizer='adam', metrics=['accuracy'])\n",
    "\n",
    "# Обучение модели\n",
    "model.fit(X_train, Y_train, batch_size=batch_size, epochs=num_epochs, verbose=1, validation_split=0.1)\n",
    "\n",
    "# Оценка модели на тестовых данных\n",
    "model.evaluate(X_test, Y_test, verbose=0)"
   ]
  },
  {
   "cell_type": "markdown",
   "metadata": {
    "id": "K_C9zEJ88suR"
   },
   "source": [
    "Модель без слоя Dropout"
   ]
  },
  {
   "cell_type": "code",
   "execution_count": 33,
   "metadata": {
    "colab": {
     "base_uri": "https://localhost:8080/"
    },
    "id": "X5DvVwyh8L18",
    "outputId": "dc8f2600-8f9c-447b-aa4d-1f9ec1d113f5"
   },
   "outputs": [],
   "source": [
    "# Создание модели\n",
    "model1 = Sequential()\n",
    "\n",
    "# Первый блок: Conv -> Conv -> Pool (без dropout на слое пулинга)\n",
    "model1.add(Input(shape=(height, width, depth)))\n",
    "model1.add(Conv2D(conv_depth_1, (kernel_size, kernel_size), padding='same', activation='relu'))\n",
    "model1.add(Conv2D(conv_depth_1, (kernel_size, kernel_size), padding='same', activation='relu'))\n",
    "model1.add(MaxPooling2D(pool_size=(pool_size, pool_size)))\n",
    "\n",
    "# Второй блок: Conv -> Conv -> Pool (без dropout на слое пулинга)\n",
    "model1.add(Conv2D(conv_depth_2, (kernel_size, kernel_size), padding='same', activation='relu'))\n",
    "model1.add(Conv2D(conv_depth_2, (kernel_size, kernel_size), padding='same', activation='relu'))\n",
    "model1.add(MaxPooling2D(pool_size=(pool_size, pool_size)))\n",
    "\n",
    "# Преобразование в 1D и полносвязный слой с ReLU и dropout\n",
    "model1.add(Flatten())\n",
    "model1.add(Dense(hidden_size, activation='relu'))\n",
    "\n",
    "# Выходной слой с softmax\n",
    "model1.add(Dense(num_classes, activation='softmax'))"
   ]
  },
  {
   "cell_type": "code",
   "execution_count": 34,
   "metadata": {
    "colab": {
     "base_uri": "https://localhost:8080/"
    },
    "id": "hE5n20Ov8juN",
    "outputId": "eeac073a-8b32-4fa3-e125-03e8b6617f8a"
   },
   "outputs": [
    {
     "name": "stdout",
     "output_type": "stream",
     "text": [
      "Epoch 1/10\n",
      "\u001b[1m1407/1407\u001b[0m \u001b[32m━━━━━━━━━━━━━━━━━━━━\u001b[0m\u001b[37m\u001b[0m \u001b[1m25s\u001b[0m 17ms/step - accuracy: 0.3829 - loss: 1.6718 - val_accuracy: 0.6358 - val_loss: 1.0480\n",
      "Epoch 2/10\n",
      "\u001b[1m1407/1407\u001b[0m \u001b[32m━━━━━━━━━━━━━━━━━━━━\u001b[0m\u001b[37m\u001b[0m \u001b[1m23s\u001b[0m 16ms/step - accuracy: 0.6749 - loss: 0.9144 - val_accuracy: 0.7058 - val_loss: 0.8630\n",
      "Epoch 3/10\n",
      "\u001b[1m1407/1407\u001b[0m \u001b[32m━━━━━━━━━━━━━━━━━━━━\u001b[0m\u001b[37m\u001b[0m \u001b[1m23s\u001b[0m 16ms/step - accuracy: 0.7695 - loss: 0.6613 - val_accuracy: 0.7454 - val_loss: 0.7596\n",
      "Epoch 4/10\n",
      "\u001b[1m1407/1407\u001b[0m \u001b[32m━━━━━━━━━━━━━━━━━━━━\u001b[0m\u001b[37m\u001b[0m \u001b[1m23s\u001b[0m 16ms/step - accuracy: 0.8367 - loss: 0.4669 - val_accuracy: 0.7640 - val_loss: 0.7224\n",
      "Epoch 5/10\n",
      "\u001b[1m1407/1407\u001b[0m \u001b[32m━━━━━━━━━━━━━━━━━━━━\u001b[0m\u001b[37m\u001b[0m \u001b[1m23s\u001b[0m 16ms/step - accuracy: 0.8968 - loss: 0.2989 - val_accuracy: 0.7534 - val_loss: 0.8318\n",
      "Epoch 6/10\n",
      "\u001b[1m1407/1407\u001b[0m \u001b[32m━━━━━━━━━━━━━━━━━━━━\u001b[0m\u001b[37m\u001b[0m \u001b[1m23s\u001b[0m 16ms/step - accuracy: 0.9361 - loss: 0.1847 - val_accuracy: 0.7538 - val_loss: 1.0065\n",
      "Epoch 7/10\n",
      "\u001b[1m1407/1407\u001b[0m \u001b[32m━━━━━━━━━━━━━━━━━━━━\u001b[0m\u001b[37m\u001b[0m \u001b[1m23s\u001b[0m 16ms/step - accuracy: 0.9546 - loss: 0.1301 - val_accuracy: 0.7472 - val_loss: 1.2017\n",
      "Epoch 8/10\n",
      "\u001b[1m1407/1407\u001b[0m \u001b[32m━━━━━━━━━━━━━━━━━━━━\u001b[0m\u001b[37m\u001b[0m \u001b[1m23s\u001b[0m 17ms/step - accuracy: 0.9681 - loss: 0.0948 - val_accuracy: 0.7258 - val_loss: 1.5243\n",
      "Epoch 9/10\n",
      "\u001b[1m1407/1407\u001b[0m \u001b[32m━━━━━━━━━━━━━━━━━━━━\u001b[0m\u001b[37m\u001b[0m \u001b[1m23s\u001b[0m 16ms/step - accuracy: 0.9706 - loss: 0.0884 - val_accuracy: 0.7372 - val_loss: 1.4579\n",
      "Epoch 10/10\n",
      "\u001b[1m1407/1407\u001b[0m \u001b[32m━━━━━━━━━━━━━━━━━━━━\u001b[0m\u001b[37m\u001b[0m \u001b[1m23s\u001b[0m 16ms/step - accuracy: 0.9739 - loss: 0.0789 - val_accuracy: 0.7504 - val_loss: 1.4321\n"
     ]
    },
    {
     "data": {
      "text/plain": [
       "[434.5845031738281, 0.6104000210762024]"
      ]
     },
     "execution_count": 34,
     "metadata": {},
     "output_type": "execute_result"
    }
   ],
   "source": [
    "# Компиляция модели\n",
    "model1.compile(loss='categorical_crossentropy', optimizer='adam', metrics=['accuracy'])\n",
    "\n",
    "# Обучение модели\n",
    "model1.fit(X_train, Y_train, batch_size=batch_size, epochs=num_epochs, verbose=1, validation_split=0.1)\n",
    "\n",
    "# Оценка модели на тестовых данных\n",
    "model1.evaluate(X_test, Y_test, verbose=0)"
   ]
  },
  {
   "cell_type": "markdown",
   "metadata": {
    "id": "PTfsnAkF8zmL"
   },
   "source": [
    "Модель с размером ядра 5х5"
   ]
  },
  {
   "cell_type": "code",
   "execution_count": 35,
   "metadata": {
    "colab": {
     "base_uri": "https://localhost:8080/"
    },
    "id": "FknPdexq863y",
    "outputId": "1d5212a1-3ae7-48f0-d74e-9a3792a29d4e"
   },
   "outputs": [],
   "source": [
    "kernel_size = 5\n",
    "\n",
    "# Создание модели\n",
    "model2 = Sequential()\n",
    "\n",
    "# Первый блок: Conv -> Conv -> Pool (с dropout на слое пулинга)\n",
    "model2.add(Input(shape=(height, width, depth)))\n",
    "model2.add(Conv2D(conv_depth_1, (kernel_size, kernel_size), padding='same', activation='relu'))\n",
    "model2.add(Conv2D(conv_depth_1, (kernel_size, kernel_size), padding='same', activation='relu'))\n",
    "model2.add(MaxPooling2D(pool_size=(pool_size, pool_size)))\n",
    "model2.add(Dropout(drop_prob_1))\n",
    "\n",
    "# Второй блок: Conv -> Conv -> Pool (с dropout на слое пулинга)\n",
    "model2.add(Conv2D(conv_depth_2, (kernel_size, kernel_size), padding='same', activation='relu'))\n",
    "model2.add(Conv2D(conv_depth_2, (kernel_size, kernel_size), padding='same', activation='relu'))\n",
    "model2.add(MaxPooling2D(pool_size=(pool_size, pool_size)))\n",
    "model2.add(Dropout(drop_prob_1))\n",
    "\n",
    "# Преобразование в 1D и полносвязный слой с ReLU и dropout\n",
    "model2.add(Flatten())\n",
    "model2.add(Dense(hidden_size, activation='relu'))\n",
    "model2.add(Dropout(drop_prob_2))\n",
    "\n",
    "# Выходной слой с softmax\n",
    "model2.add(Dense(num_classes, activation='softmax'))"
   ]
  },
  {
   "cell_type": "code",
   "execution_count": 36,
   "metadata": {
    "colab": {
     "base_uri": "https://localhost:8080/"
    },
    "id": "j6MKZUDj9IVt",
    "outputId": "3afecd0d-dbae-4764-977b-2d87c3c928a6"
   },
   "outputs": [
    {
     "name": "stdout",
     "output_type": "stream",
     "text": [
      "Epoch 1/10\n",
      "\u001b[1m1407/1407\u001b[0m \u001b[32m━━━━━━━━━━━━━━━━━━━━\u001b[0m\u001b[37m\u001b[0m \u001b[1m39s\u001b[0m 26ms/step - accuracy: 0.3122 - loss: 1.8690 - val_accuracy: 0.5222 - val_loss: 1.2885\n",
      "Epoch 2/10\n",
      "\u001b[1m1407/1407\u001b[0m \u001b[32m━━━━━━━━━━━━━━━━━━━━\u001b[0m\u001b[37m\u001b[0m \u001b[1m36s\u001b[0m 25ms/step - accuracy: 0.5202 - loss: 1.3349 - val_accuracy: 0.6220 - val_loss: 1.0714\n",
      "Epoch 3/10\n",
      "\u001b[1m1407/1407\u001b[0m \u001b[32m━━━━━━━━━━━━━━━━━━━━\u001b[0m\u001b[37m\u001b[0m \u001b[1m36s\u001b[0m 25ms/step - accuracy: 0.5973 - loss: 1.1242 - val_accuracy: 0.6702 - val_loss: 0.9526\n",
      "Epoch 4/10\n",
      "\u001b[1m1407/1407\u001b[0m \u001b[32m━━━━━━━━━━━━━━━━━━━━\u001b[0m\u001b[37m\u001b[0m \u001b[1m35s\u001b[0m 25ms/step - accuracy: 0.6429 - loss: 1.0051 - val_accuracy: 0.6600 - val_loss: 0.9864\n",
      "Epoch 5/10\n",
      "\u001b[1m1407/1407\u001b[0m \u001b[32m━━━━━━━━━━━━━━━━━━━━\u001b[0m\u001b[37m\u001b[0m \u001b[1m35s\u001b[0m 25ms/step - accuracy: 0.6689 - loss: 0.9297 - val_accuracy: 0.7096 - val_loss: 0.8532\n",
      "Epoch 6/10\n",
      "\u001b[1m1407/1407\u001b[0m \u001b[32m━━━━━━━━━━━━━━━━━━━━\u001b[0m\u001b[37m\u001b[0m \u001b[1m45s\u001b[0m 32ms/step - accuracy: 0.6877 - loss: 0.8829 - val_accuracy: 0.7110 - val_loss: 0.8274\n",
      "Epoch 7/10\n",
      "\u001b[1m1407/1407\u001b[0m \u001b[32m━━━━━━━━━━━━━━━━━━━━\u001b[0m\u001b[37m\u001b[0m \u001b[1m48s\u001b[0m 34ms/step - accuracy: 0.7036 - loss: 0.8346 - val_accuracy: 0.7114 - val_loss: 0.8391\n",
      "Epoch 8/10\n",
      "\u001b[1m1407/1407\u001b[0m \u001b[32m━━━━━━━━━━━━━━━━━━━━\u001b[0m\u001b[37m\u001b[0m \u001b[1m49s\u001b[0m 35ms/step - accuracy: 0.7180 - loss: 0.7885 - val_accuracy: 0.7284 - val_loss: 0.8014\n",
      "Epoch 9/10\n",
      "\u001b[1m1407/1407\u001b[0m \u001b[32m━━━━━━━━━━━━━━━━━━━━\u001b[0m\u001b[37m\u001b[0m \u001b[1m48s\u001b[0m 34ms/step - accuracy: 0.7243 - loss: 0.7757 - val_accuracy: 0.7420 - val_loss: 0.7679\n",
      "Epoch 10/10\n",
      "\u001b[1m1407/1407\u001b[0m \u001b[32m━━━━━━━━━━━━━━━━━━━━\u001b[0m\u001b[37m\u001b[0m \u001b[1m39s\u001b[0m 28ms/step - accuracy: 0.7349 - loss: 0.7463 - val_accuracy: 0.7406 - val_loss: 0.7604\n"
     ]
    },
    {
     "data": {
      "text/plain": [
       "[160.3888397216797, 0.5393999814987183]"
      ]
     },
     "execution_count": 36,
     "metadata": {},
     "output_type": "execute_result"
    }
   ],
   "source": [
    "# Компиляция модели\n",
    "model2.compile(loss='categorical_crossentropy', optimizer='adam', metrics=['accuracy'])\n",
    "\n",
    "# Обучение модели\n",
    "model2.fit(X_train, Y_train, batch_size=batch_size, epochs=num_epochs, verbose=1, validation_split=0.1)\n",
    "\n",
    "# Оценка модели на тестовых данных\n",
    "model2.evaluate(X_test, Y_test, verbose=0)"
   ]
  },
  {
   "cell_type": "markdown",
   "metadata": {
    "id": "aytXlNvfmNHr"
   },
   "source": [
    "Модель с размером ядра 2х2"
   ]
  },
  {
   "cell_type": "code",
   "execution_count": 37,
   "metadata": {
    "colab": {
     "base_uri": "https://localhost:8080/"
    },
    "id": "E4dVSojkmMwM",
    "outputId": "31f207f7-ed1e-438b-a431-ef64cf8f2c13"
   },
   "outputs": [],
   "source": [
    "kernel_size = 2\n",
    "\n",
    "# Создание модели\n",
    "model3 = Sequential()\n",
    "\n",
    "# Первый блок: Conv -> Conv -> Pool (с dropout на слое пулинга)\n",
    "model3.add(Input(shape=(height, width, depth)))\n",
    "model3.add(Conv2D(conv_depth_1, (kernel_size, kernel_size), padding='same', activation='relu'))\n",
    "model3.add(Conv2D(conv_depth_1, (kernel_size, kernel_size), padding='same', activation='relu'))\n",
    "model3.add(MaxPooling2D(pool_size=(pool_size, pool_size)))\n",
    "model3.add(Dropout(drop_prob_1))\n",
    "\n",
    "# Второй блок: Conv -> Conv -> Pool (с dropout на слое пулинга)\n",
    "model3.add(Conv2D(conv_depth_2, (kernel_size, kernel_size), padding='same', activation='relu'))\n",
    "model3.add(Conv2D(conv_depth_2, (kernel_size, kernel_size), padding='same', activation='relu'))\n",
    "model3.add(MaxPooling2D(pool_size=(pool_size, pool_size)))\n",
    "model3.add(Dropout(drop_prob_1))\n",
    "\n",
    "# Преобразование в 1D и полносвязный слой с ReLU и dropout\n",
    "model3.add(Flatten())\n",
    "model3.add(Dense(hidden_size, activation='relu'))\n",
    "model3.add(Dropout(drop_prob_2))\n",
    "\n",
    "# Выходной слой с softmax\n",
    "model3.add(Dense(num_classes, activation='softmax'))"
   ]
  },
  {
   "cell_type": "code",
   "execution_count": 38,
   "metadata": {
    "colab": {
     "base_uri": "https://localhost:8080/"
    },
    "id": "Ou-1N8EymboQ",
    "outputId": "b384aedd-fb15-4525-870e-2550e214f204"
   },
   "outputs": [
    {
     "name": "stdout",
     "output_type": "stream",
     "text": [
      "Epoch 1/10\n",
      "\u001b[1m1407/1407\u001b[0m \u001b[32m━━━━━━━━━━━━━━━━━━━━\u001b[0m\u001b[37m\u001b[0m \u001b[1m23s\u001b[0m 15ms/step - accuracy: 0.3372 - loss: 1.7984 - val_accuracy: 0.5886 - val_loss: 1.1689\n",
      "Epoch 2/10\n",
      "\u001b[1m1407/1407\u001b[0m \u001b[32m━━━━━━━━━━━━━━━━━━━━\u001b[0m\u001b[37m\u001b[0m \u001b[1m21s\u001b[0m 15ms/step - accuracy: 0.5630 - loss: 1.2208 - val_accuracy: 0.6360 - val_loss: 1.0272\n",
      "Epoch 3/10\n",
      "\u001b[1m1407/1407\u001b[0m \u001b[32m━━━━━━━━━━━━━━━━━━━━\u001b[0m\u001b[37m\u001b[0m \u001b[1m21s\u001b[0m 15ms/step - accuracy: 0.6287 - loss: 1.0463 - val_accuracy: 0.6842 - val_loss: 0.9025\n",
      "Epoch 4/10\n",
      "\u001b[1m1407/1407\u001b[0m \u001b[32m━━━━━━━━━━━━━━━━━━━━\u001b[0m\u001b[37m\u001b[0m \u001b[1m22s\u001b[0m 16ms/step - accuracy: 0.6596 - loss: 0.9605 - val_accuracy: 0.7110 - val_loss: 0.8370\n",
      "Epoch 5/10\n",
      "\u001b[1m1407/1407\u001b[0m \u001b[32m━━━━━━━━━━━━━━━━━━━━\u001b[0m\u001b[37m\u001b[0m \u001b[1m21s\u001b[0m 15ms/step - accuracy: 0.6870 - loss: 0.8840 - val_accuracy: 0.7164 - val_loss: 0.8129\n",
      "Epoch 6/10\n",
      "\u001b[1m1407/1407\u001b[0m \u001b[32m━━━━━━━━━━━━━━━━━━━━\u001b[0m\u001b[37m\u001b[0m \u001b[1m24s\u001b[0m 17ms/step - accuracy: 0.6995 - loss: 0.8364 - val_accuracy: 0.7424 - val_loss: 0.7476\n",
      "Epoch 7/10\n",
      "\u001b[1m1407/1407\u001b[0m \u001b[32m━━━━━━━━━━━━━━━━━━━━\u001b[0m\u001b[37m\u001b[0m \u001b[1m25s\u001b[0m 18ms/step - accuracy: 0.7166 - loss: 0.7978 - val_accuracy: 0.7226 - val_loss: 0.7903\n",
      "Epoch 8/10\n",
      "\u001b[1m1407/1407\u001b[0m \u001b[32m━━━━━━━━━━━━━━━━━━━━\u001b[0m\u001b[37m\u001b[0m \u001b[1m24s\u001b[0m 17ms/step - accuracy: 0.7336 - loss: 0.7506 - val_accuracy: 0.7410 - val_loss: 0.7400\n",
      "Epoch 9/10\n",
      "\u001b[1m1407/1407\u001b[0m \u001b[32m━━━━━━━━━━━━━━━━━━━━\u001b[0m\u001b[37m\u001b[0m \u001b[1m21s\u001b[0m 15ms/step - accuracy: 0.7478 - loss: 0.7101 - val_accuracy: 0.7528 - val_loss: 0.7086\n",
      "Epoch 10/10\n",
      "\u001b[1m1407/1407\u001b[0m \u001b[32m━━━━━━━━━━━━━━━━━━━━\u001b[0m\u001b[37m\u001b[0m \u001b[1m21s\u001b[0m 15ms/step - accuracy: 0.7559 - loss: 0.6816 - val_accuracy: 0.7612 - val_loss: 0.7137\n"
     ]
    },
    {
     "data": {
      "text/plain": [
       "[350.3346862792969, 0.31369999051094055]"
      ]
     },
     "execution_count": 38,
     "metadata": {},
     "output_type": "execute_result"
    }
   ],
   "source": [
    "# Компиляция модели\n",
    "model3.compile(loss='categorical_crossentropy', optimizer='adam', metrics=['accuracy'])\n",
    "\n",
    "# Обучение модели\n",
    "model3.fit(X_train, Y_train, batch_size=batch_size, epochs=num_epochs, verbose=1, validation_split=0.1)\n",
    "\n",
    "# Оценка модели на тестовых данных\n",
    "model3.evaluate(X_test, Y_test, verbose=0)"
   ]
  },
  {
   "cell_type": "markdown",
   "metadata": {
    "id": "IM8ruj91uRog"
   },
   "source": [
    "Модель с размером ядра 4х4"
   ]
  },
  {
   "cell_type": "code",
   "execution_count": 39,
   "metadata": {
    "colab": {
     "base_uri": "https://localhost:8080/"
    },
    "id": "59Y7mjIbuU5Y",
    "outputId": "6c44071b-bfb5-4d26-aaaf-b544dc2833c6"
   },
   "outputs": [],
   "source": [
    "kernel_size = 4\n",
    "\n",
    "# Создание модели\n",
    "model4 = Sequential()\n",
    "\n",
    "# Первый блок: Conv -> Conv -> Pool (с dropout на слое пулинга)\n",
    "model4.add(Input(shape=(height, width, depth)))\n",
    "model4.add(Conv2D(conv_depth_1, (kernel_size, kernel_size), padding='same', activation='relu'))\n",
    "model4.add(Conv2D(conv_depth_1, (kernel_size, kernel_size), padding='same', activation='relu'))\n",
    "model4.add(MaxPooling2D(pool_size=(pool_size, pool_size)))\n",
    "model4.add(Dropout(drop_prob_1))\n",
    "\n",
    "# Второй блок: Conv -> Conv -> Pool (с dropout на слое пулинга)\n",
    "model4.add(Conv2D(conv_depth_2, (kernel_size, kernel_size), padding='same', activation='relu'))\n",
    "model4.add(Conv2D(conv_depth_2, (kernel_size, kernel_size), padding='same', activation='relu'))\n",
    "model4.add(MaxPooling2D(pool_size=(pool_size, pool_size)))\n",
    "model4.add(Dropout(drop_prob_1))\n",
    "\n",
    "# Преобразование в 1D и полносвязный слой с ReLU и dropout\n",
    "model4.add(Flatten())\n",
    "model4.add(Dense(hidden_size, activation='relu'))\n",
    "model4.add(Dropout(drop_prob_2))\n",
    "\n",
    "# Выходной слой с softmax\n",
    "model4.add(Dense(num_classes, activation='softmax'))"
   ]
  },
  {
   "cell_type": "code",
   "execution_count": 40,
   "metadata": {
    "colab": {
     "base_uri": "https://localhost:8080/"
    },
    "id": "EoFFaXa6ua3t",
    "outputId": "235c7fdd-ba58-4ffc-e6be-ee7c459e12bb"
   },
   "outputs": [
    {
     "name": "stdout",
     "output_type": "stream",
     "text": [
      "Epoch 1/10\n",
      "\u001b[1m1407/1407\u001b[0m \u001b[32m━━━━━━━━━━━━━━━━━━━━\u001b[0m\u001b[37m\u001b[0m \u001b[1m32s\u001b[0m 22ms/step - accuracy: 0.2637 - loss: 1.9593 - val_accuracy: 0.5020 - val_loss: 1.3614\n",
      "Epoch 2/10\n",
      "\u001b[1m1407/1407\u001b[0m \u001b[32m━━━━━━━━━━━━━━━━━━━━\u001b[0m\u001b[37m\u001b[0m \u001b[1m31s\u001b[0m 22ms/step - accuracy: 0.4943 - loss: 1.3942 - val_accuracy: 0.5904 - val_loss: 1.1307\n",
      "Epoch 3/10\n",
      "\u001b[1m1407/1407\u001b[0m \u001b[32m━━━━━━━━━━━━━━━━━━━━\u001b[0m\u001b[37m\u001b[0m \u001b[1m29s\u001b[0m 21ms/step - accuracy: 0.5711 - loss: 1.1932 - val_accuracy: 0.6572 - val_loss: 0.9894\n",
      "Epoch 4/10\n",
      "\u001b[1m1407/1407\u001b[0m \u001b[32m━━━━━━━━━━━━━━━━━━━━\u001b[0m\u001b[37m\u001b[0m \u001b[1m32s\u001b[0m 23ms/step - accuracy: 0.6170 - loss: 1.0680 - val_accuracy: 0.6534 - val_loss: 0.9927\n",
      "Epoch 5/10\n",
      "\u001b[1m1407/1407\u001b[0m \u001b[32m━━━━━━━━━━━━━━━━━━━━\u001b[0m\u001b[37m\u001b[0m \u001b[1m30s\u001b[0m 21ms/step - accuracy: 0.6490 - loss: 0.9941 - val_accuracy: 0.6752 - val_loss: 0.9585\n",
      "Epoch 6/10\n",
      "\u001b[1m1407/1407\u001b[0m \u001b[32m━━━━━━━━━━━━━━━━━━━━\u001b[0m\u001b[37m\u001b[0m \u001b[1m31s\u001b[0m 22ms/step - accuracy: 0.6745 - loss: 0.9171 - val_accuracy: 0.7108 - val_loss: 0.8436\n",
      "Epoch 7/10\n",
      "\u001b[1m1407/1407\u001b[0m \u001b[32m━━━━━━━━━━━━━━━━━━━━\u001b[0m\u001b[37m\u001b[0m \u001b[1m31s\u001b[0m 22ms/step - accuracy: 0.6890 - loss: 0.8854 - val_accuracy: 0.7278 - val_loss: 0.8005\n",
      "Epoch 8/10\n",
      "\u001b[1m1407/1407\u001b[0m \u001b[32m━━━━━━━━━━━━━━━━━━━━\u001b[0m\u001b[37m\u001b[0m \u001b[1m36s\u001b[0m 26ms/step - accuracy: 0.7076 - loss: 0.8326 - val_accuracy: 0.7372 - val_loss: 0.7696\n",
      "Epoch 9/10\n",
      "\u001b[1m1407/1407\u001b[0m \u001b[32m━━━━━━━━━━━━━━━━━━━━\u001b[0m\u001b[37m\u001b[0m \u001b[1m38s\u001b[0m 27ms/step - accuracy: 0.7207 - loss: 0.7953 - val_accuracy: 0.7234 - val_loss: 0.8083\n",
      "Epoch 10/10\n",
      "\u001b[1m1407/1407\u001b[0m \u001b[32m━━━━━━━━━━━━━━━━━━━━\u001b[0m\u001b[37m\u001b[0m \u001b[1m38s\u001b[0m 27ms/step - accuracy: 0.7287 - loss: 0.7716 - val_accuracy: 0.7346 - val_loss: 0.7813\n"
     ]
    },
    {
     "data": {
      "text/plain": [
       "[217.5687255859375, 0.39489999413490295]"
      ]
     },
     "execution_count": 40,
     "metadata": {},
     "output_type": "execute_result"
    }
   ],
   "source": [
    "# Компиляция модели\n",
    "model4.compile(loss='categorical_crossentropy', optimizer='adam', metrics=['accuracy'])\n",
    "\n",
    "# Обучение модели\n",
    "model4.fit(X_train, Y_train, batch_size=batch_size, epochs=num_epochs, verbose=1, validation_split=0.1)\n",
    "\n",
    "# Оценка модели на тестовых данных\n",
    "model4.evaluate(X_test, Y_test, verbose=0)"
   ]
  },
  {
   "cell_type": "code",
   "execution_count": 46,
   "metadata": {
    "id": "Ni0ntkYASJOS"
   },
   "outputs": [
    {
     "name": "stdout",
     "output_type": "stream",
     "text": [
      "\u001b[1m1/1\u001b[0m \u001b[32m━━━━━━━━━━━━━━━━━━━━\u001b[0m\u001b[37m\u001b[0m \u001b[1m0s\u001b[0m 53ms/step\n"
     ]
    },
    {
     "data": {
      "image/png": "[encoded data removed]",
      "text/plain": [
       "<Figure size 640x480 with 1 Axes>"
      ]
     },
     "metadata": {},
     "output_type": "display_data"
    },
    {
     "name": "stdout",
     "output_type": "stream",
     "text": [
      "Predicted class: airplane\n"
     ]
    }
   ],
   "source": [
    "def predict_image(image_path):\n",
    "    class_names = ['airplane', 'car', 'bird', 'cat', 'deer', 'dog', 'frog', 'horse', 'ship', 'truck']\n",
    "    img = Image.open(image_path)\n",
    "    img = img.resize((height, width))\n",
    "    img_array = np.array(img) / 255.0\n",
    "    img_array = img_array.reshape(1, height, width, depth)\n",
    "\n",
    "    prediction = model.predict(img_array)\n",
    "    predicted_class = np.argmax(prediction)\n",
    "    predicted_class_name = class_names[predicted_class]\n",
    "\n",
    "    plt.imshow(img)\n",
    "    plt.title(f'Predicted class: {predicted_class_name}')\n",
    "    plt.axis('off')\n",
    "    plt.show()\n",
    "\n",
    "    return predicted_class_name\n",
    "\n",
    "predicted_class_name = predict_image(\"i4.jpg\")\n",
    "print(f'Predicted class: {predicted_class_name}')"
   ]
  }
 ],
 "metadata": {
  "colab": {
   "provenance": []
  },
  "kernelspec": {
   "display_name": "Python 3",
   "name": "python3"
  },
  "language_info": {
   "codemirror_mode": {
    "name": "ipython",
    "version": 3
   },
   "file_extension": ".py",
   "mimetype": "text/x-python",
   "name": "python",
   "nbconvert_exporter": "python",
   "pygments_lexer": "ipython3",
   "version": "3.11.9"
  }
 },
 "nbformat": 4,
 "nbformat_minor": 0
}
