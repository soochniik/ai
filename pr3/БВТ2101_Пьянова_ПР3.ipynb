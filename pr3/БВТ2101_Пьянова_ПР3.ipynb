{
 "cells": [
  {
   "cell_type": "markdown",
   "metadata": {
    "id": "wwHZs5pbv5lw"
   },
   "source": [
    "# Практическая работа №3\n",
    "## по предмету \"Системы искусственного интеллекта\"\n",
    "### Выполнила студентка группы БВТ2101 Пьянова Анна\n",
    "\n",
    "Целью практической работы является изучение методов регрессии.\n",
    "\n",
    "В данной работе вам необходимо:\n",
    "1. используя библиотеку sklearn, обучить линейную регрессию без использования регуляризации\n",
    "2. изучить работу класса Lasso для регуляризации, подобрать наилучший параметр для данного набора данных.\n",
    "3. изучить работу класса Ridge для регуляризации, подобрать наилучший параметр альфа для данного набора данных."
   ]
  },
  {
   "cell_type": "code",
   "execution_count": 6,
   "metadata": {},
   "outputs": [],
   "source": [
    "import pandas as pd\n",
    "from sklearn.model_selection import train_test_split, GridSearchCV\n",
    "from sklearn.preprocessing import StandardScaler, OneHotEncoder\n",
    "from sklearn.compose import ColumnTransformer\n",
    "from sklearn.pipeline import Pipeline\n",
    "from sklearn.linear_model import LinearRegression, Lasso, Ridge\n",
    "from sklearn.metrics import mean_squared_error\n",
    "import warnings\n",
    "from sklearn.exceptions import ConvergenceWarning"
   ]
  },
  {
   "cell_type": "markdown",
   "metadata": {},
   "source": [
    "Предобработка данных"
   ]
  },
  {
   "cell_type": "code",
   "execution_count": 2,
   "metadata": {
    "id": "EP_MhQGkw5sW"
   },
   "outputs": [],
   "source": [
    "data = pd.read_csv('processor.csv')\n",
    "\n",
    "X = data.drop('Price', axis=1)\n",
    "y = data['Price']\n",
    "\n",
    "# Определение числовых и категориальных признаков\n",
    "numeric_features = X.select_dtypes(include=['int64', 'float64']).columns\n",
    "categorical_features = X.select_dtypes(include=['object']).columns\n",
    "\n",
    "# Препроцессор для числовых признаков\n",
    "numeric_transformer = Pipeline(steps=[('scaler', StandardScaler())])\n",
    "\n",
    "# Препроцессор для категориальных признаков\n",
    "categorical_transformer = Pipeline(steps=[('onehot', OneHotEncoder(handle_unknown='ignore'))])\n",
    "\n",
    "# Объединение препроцессоров\n",
    "preprocessor = ColumnTransformer(\n",
    "    transformers=[\n",
    "        ('num', numeric_transformer, numeric_features),\n",
    "        ('cat', categorical_transformer, categorical_features)])\n",
    "\n",
    "# Разделение данных на обучающую, валидационную и тестовую выборки\n",
    "X_train_full, X_test, y_train_full, y_test = train_test_split(X, y, test_size=0.2, random_state=42)\n",
    "X_train, X_val, y_train, y_val = train_test_split(X_train_full, y_train_full, test_size=0.25, random_state=42)  # 0.25 * 0.8 = 0.2\n",
    "\n",
    "# Применение препроцессора\n",
    "X_train = preprocessor.fit_transform(X_train)\n",
    "X_val = preprocessor.transform(X_val)\n",
    "X_test = preprocessor.transform(X_test)\n"
   ]
  },
  {
   "cell_type": "markdown",
   "metadata": {},
   "source": [
    "Линейная регрессия без регуляризации"
   ]
  },
  {
   "cell_type": "code",
   "execution_count": 3,
   "metadata": {},
   "outputs": [
    {
     "name": "stdout",
     "output_type": "stream",
     "text": [
      "MSE for Linear Regression (val): 428396492.2859303\n",
      "MSE for Linear Regression (test): 564981862.231206\n"
     ]
    }
   ],
   "source": [
    "linear_reg = LinearRegression()\n",
    "linear_reg.fit(X_train, y_train)\n",
    "\n",
    "y_val_pred_linear = linear_reg.predict(X_val)\n",
    "mse_linear_val = mean_squared_error(y_val, y_val_pred_linear)\n",
    "y_test_pred_linear = linear_reg.predict(X_test)\n",
    "mse_linear_test = mean_squared_error(y_test, y_test_pred_linear)\n",
    "print(f\"MSE for Linear Regression (val): {mse_linear_val}\")\n",
    "print(f\"MSE for Linear Regression (test): {mse_linear_test}\")"
   ]
  },
  {
   "cell_type": "markdown",
   "metadata": {},
   "source": [
    "Линейная регрессия с L1-регуляризцией"
   ]
  },
  {
   "cell_type": "code",
   "execution_count": 7,
   "metadata": {},
   "outputs": [
    {
     "name": "stdout",
     "output_type": "stream",
     "text": [
      "Best alpha for Lasso: 100\n",
      "MSE for Lasso Regression (val): 429608292.63583606\n",
      "MSE for Lasso Regression (test): 562570791.1889168\n"
     ]
    }
   ],
   "source": [
    "warnings.filterwarnings(\"ignore\", category=ConvergenceWarning)\n",
    "lasso = Lasso()\n",
    "param_grid_lasso = {'alpha': [0.001, 0.01, 0.1, 1, 10, 100]}\n",
    "grid_search_lasso = GridSearchCV(lasso, param_grid_lasso, cv=5, scoring='neg_mean_squared_error')\n",
    "grid_search_lasso.fit(X_train, y_train)\n",
    "\n",
    "best_alpha_lasso = grid_search_lasso.best_params_['alpha']\n",
    "print(f\"Best alpha for Lasso: {best_alpha_lasso}\")\n",
    "\n",
    "y_val_pred_lasso = grid_search_lasso.predict(X_val)\n",
    "mse_lasso_val = mean_squared_error(y_val, y_val_pred_lasso)\n",
    "y_test_pred_lasso = grid_search_lasso.predict(X_test)\n",
    "mse_lasso_test = mean_squared_error(y_test, y_test_pred_lasso)\n",
    "print(f\"MSE for Lasso Regression (val): {mse_lasso_val}\")\n",
    "print(f\"MSE for Lasso Regression (test): {mse_lasso_test}\")"
   ]
  },
  {
   "cell_type": "markdown",
   "metadata": {},
   "source": [
    "Линейная регрессия с L2-регуляризацией"
   ]
  },
  {
   "cell_type": "code",
   "execution_count": 5,
   "metadata": {},
   "outputs": [
    {
     "name": "stdout",
     "output_type": "stream",
     "text": [
      "Best alpha for Ridge: 1\n",
      "MSE for Ridge Regression (val): 405063327.4651937\n",
      "MSE for Ridge Regression (test): 551813208.143868\n"
     ]
    }
   ],
   "source": [
    "ridge = Ridge()\n",
    "param_grid_ridge = {'alpha': [0.001, 0.01, 0.1, 1, 10, 100]}\n",
    "grid_search_ridge = GridSearchCV(ridge, param_grid_ridge, cv=5, scoring='neg_mean_squared_error')\n",
    "grid_search_ridge.fit(X_train, y_train)\n",
    "\n",
    "best_alpha_ridge = grid_search_ridge.best_params_['alpha']\n",
    "print(f\"Best alpha for Ridge: {best_alpha_ridge}\")\n",
    "\n",
    "y_val_pred_ridge = grid_search_ridge.predict(X_val)\n",
    "mse_ridge_val = mean_squared_error(y_val, y_val_pred_ridge)\n",
    "y_test_pred_ridge = grid_search_ridge.predict(X_test)\n",
    "mse_ridge_test = mean_squared_error(y_test, y_test_pred_ridge)\n",
    "print(f\"MSE for Ridge Regression (val): {mse_ridge_val}\")\n",
    "print(f\"MSE for Ridge Regression (test): {mse_ridge_test}\")"
   ]
  }
 ],
 "metadata": {
  "colab": {
   "provenance": []
  },
  "kernelspec": {
   "display_name": "Python 3",
   "name": "python3"
  },
  "language_info": {
   "codemirror_mode": {
    "name": "ipython",
    "version": 3
   },
   "file_extension": ".py",
   "mimetype": "text/x-python",
   "name": "python",
   "nbconvert_exporter": "python",
   "pygments_lexer": "ipython3",
   "version": "3.11.9"
  }
 },
 "nbformat": 4,
 "nbformat_minor": 0
}
