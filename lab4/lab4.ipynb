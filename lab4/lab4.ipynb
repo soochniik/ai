{
 "cells": [
  {
   "cell_type": "markdown",
   "metadata": {
    "id": "CvmiakWDcuyf"
   },
   "source": [
    "# Лабораторная работа №4\n",
    "## по предмету \"Системы искусственного интеллекта\"\n",
    "### Выполнила студентка группы БВТ2101 Пьянова Анна\n",
    "\n",
    "Целью работы является введение и знакомство с нейронными сетями.\n"
   ]
  },
  {
   "cell_type": "code",
   "execution_count": 1,
   "metadata": {},
   "outputs": [],
   "source": [
    "import os\n",
    "import numpy as np\n",
    "from PIL import Image\n",
    "from sklearn.preprocessing import StandardScaler\n",
    "import matplotlib.pyplot as plt\n",
    "from collections import Counter\n",
    "import torch\n",
    "import torch.nn as nn\n",
    "import torch.optim as optim\n",
    "import torch.nn.functional as F"
   ]
  },
  {
   "cell_type": "markdown",
   "metadata": {
    "id": "YEZ0T1uwj34v"
   },
   "source": [
    "### Задание 1\n",
    "\n",
    "Загрузите набор данных MNIST.\n",
    "Проверьте баланс классов, нормализуйте данные."
   ]
  },
  {
   "cell_type": "code",
   "execution_count": 2,
   "metadata": {
    "id": "91NHysjQj26f"
   },
   "outputs": [],
   "source": [
    "def load_data(data_dir):\n",
    "    images = []\n",
    "    labels = []\n",
    "    for label in range(10):\n",
    "        label_dir = os.path.join(data_dir, str(label))\n",
    "        for file_name in os.listdir(label_dir):\n",
    "            file_path = os.path.join(label_dir, file_name)\n",
    "            image = Image.open(file_path).convert('L')\n",
    "            image = np.array(image)\n",
    "            images.append(image)\n",
    "            labels.append(label)\n",
    "    return np.array(images), np.array(labels)\n",
    "\n",
    "train_images, train_labels = load_data('data/train')\n",
    "test_images, test_labels = load_data('data/test')"
   ]
  },
  {
   "cell_type": "code",
   "execution_count": 3,
   "metadata": {},
   "outputs": [
    {
     "data": {
      "image/png": "[encoded data removed]",
      "text/plain": [
       "<Figure size 640x480 with 1 Axes>"
      ]
     },
     "metadata": {},
     "output_type": "display_data"
    }
   ],
   "source": [
    "def plot_class_balance(labels):\n",
    "    counter = Counter(labels)\n",
    "    plt.bar(counter.keys(), counter.values())\n",
    "    plt.xlabel('Class')\n",
    "    plt.ylabel('Number of samples')\n",
    "    plt.title('Class Balance')\n",
    "    plt.show()\n",
    "\n",
    "plot_class_balance(train_labels)"
   ]
  },
  {
   "cell_type": "code",
   "execution_count": 3,
   "metadata": {},
   "outputs": [],
   "source": [
    "train_images = train_images.reshape(-1, 28*28)\n",
    "test_images = test_images.reshape(-1, 28*28)\n",
    "\n",
    "scaler = StandardScaler()\n",
    "train_images = scaler.fit_transform(train_images)\n",
    "test_images = scaler.transform(test_images)"
   ]
  },
  {
   "cell_type": "code",
   "execution_count": 31,
   "metadata": {},
   "outputs": [],
   "source": [
    "def one_hot_encode(labels, num_classes=10):\n",
    "    one_hot = np.zeros((labels.shape[0], num_classes))\n",
    "    one_hot[np.arange(labels.shape[0]), labels] = 1\n",
    "    return one_hot\n",
    "\n",
    "train_labels_one_hot = one_hot_encode(train_labels)\n",
    "test_labels_one_hot = one_hot_encode(test_labels)"
   ]
  },
  {
   "cell_type": "markdown",
   "metadata": {
    "id": "hgqsngyck7xl"
   },
   "source": [
    "### Задание 2\n",
    "\n",
    "Реализуйте однослойный перцептрон с применением алгоритма градиентного спуска для обучения."
   ]
  },
  {
   "cell_type": "code",
   "execution_count": 36,
   "metadata": {},
   "outputs": [],
   "source": [
    "class Perceptron:\n",
    "    def __init__(self, input_size, output_size):\n",
    "        self.weights = np.random.randn(input_size, output_size) * 0.01\n",
    "        self.bias = np.zeros((1, output_size))\n",
    "\n",
    "    def forward(self, X):\n",
    "        return np.dot(X, self.weights) + self.bias\n",
    "\n",
    "    def backward(self, X, y_true, y_pred, learning_rate):\n",
    "        error = y_pred - y_true\n",
    "        dW = np.dot(X.T, error) / X.shape[0]\n",
    "        db = np.mean(error, axis=0, keepdims=True)\n",
    "        self.weights -= learning_rate * dW\n",
    "        self.bias -= learning_rate * db\n",
    "\n",
    "    def predict(self, X):\n",
    "        return np.argmax(self.forward(X), axis=1)"
   ]
  },
  {
   "cell_type": "code",
   "execution_count": 37,
   "metadata": {},
   "outputs": [],
   "source": [
    "def train_perceptron(model, X_train, y_train, X_test, y_test, epochs=10, learning_rate=0.01):\n",
    "    for epoch in range(epochs):\n",
    "        y_pred = model.forward(X_train)\n",
    "        model.backward(X_train, y_train, y_pred, learning_rate)\n",
    "\n",
    "        train_accuracy = np.mean(np.argmax(y_pred, axis=1) == np.argmax(y_train, axis=1))\n",
    "        print(f\"Epoch {epoch}, Train Accuracy: {train_accuracy:.4f}\")\n",
    "\n",
    "    test_pred = model.predict(X_test)\n",
    "    test_accuracy = np.mean(test_pred == np.argmax(y_test, axis=1))\n",
    "    print(f\"Test Accuracy: {test_accuracy:.4f}\")"
   ]
  },
  {
   "cell_type": "code",
   "execution_count": 38,
   "metadata": {},
   "outputs": [
    {
     "name": "stderr",
     "output_type": "stream",
     "text": [
      "C:\\Users\\user\\AppData\\Local\\Temp\\ipykernel_14564\\2657172677.py:7: DeprecationWarning: __array__ implementation doesn't accept a copy keyword, so passing copy=False failed. __array__ must implement 'dtype' and 'copy' keyword arguments.\n",
      "  return np.dot(X, self.weights) + self.bias\n",
      "C:\\Users\\user\\AppData\\Local\\Temp\\ipykernel_14564\\2657172677.py:11: DeprecationWarning: __array__ implementation doesn't accept a copy keyword, so passing copy=False failed. __array__ must implement 'dtype' and 'copy' keyword arguments.\n",
      "  dW = np.dot(X.T, error) / X.shape[0]\n"
     ]
    },
    {
     "name": "stdout",
     "output_type": "stream",
     "text": [
      "Epoch 0, Train Accuracy: 0.1153\n",
      "Epoch 1, Train Accuracy: 0.2193\n",
      "Epoch 2, Train Accuracy: 0.3106\n",
      "Epoch 3, Train Accuracy: 0.3881\n",
      "Epoch 4, Train Accuracy: 0.4520\n",
      "Epoch 5, Train Accuracy: 0.5029\n",
      "Epoch 6, Train Accuracy: 0.5445\n",
      "Epoch 7, Train Accuracy: 0.5770\n",
      "Epoch 8, Train Accuracy: 0.6034\n",
      "Epoch 9, Train Accuracy: 0.6250\n",
      "Test Accuracy: 0.6506\n"
     ]
    }
   ],
   "source": [
    "input_size = 28 * 28\n",
    "output_size = 10\n",
    "model_perceptron = Perceptron(input_size, output_size)\n",
    "train_perceptron(model_perceptron, train_images, train_labels_one_hot, test_images, test_labels_one_hot)"
   ]
  },
  {
   "cell_type": "markdown",
   "metadata": {
    "id": "og_HzsA2lHyX"
   },
   "source": [
    "### Задание 3\n",
    "\n",
    "Изучите документацию библиотеки PyTorch, посмотрите, как создаются сверточные, полносвязные слои и слои пуллинга. Напишите свою нейронную сеть, поэксперементируйте со слоями. Обучите ее на основе набора данных MNIST."
   ]
  },
  {
   "cell_type": "code",
   "execution_count": 10,
   "metadata": {},
   "outputs": [],
   "source": [
    "class CNN(nn.Module):\n",
    "    def __init__(self):\n",
    "        super(CNN, self).__init__()\n",
    "        self.conv1 = nn.Conv2d(1, 32, kernel_size=3, stride=1, padding=1)\n",
    "        self.conv2 = nn.Conv2d(32, 64, kernel_size=3, stride=1, padding=1)\n",
    "        self.pool = nn.MaxPool2d(kernel_size=2, stride=2, padding=0)\n",
    "        self.fc1 = nn.Linear(64 * 7 * 7, 128)\n",
    "        self.fc2 = nn.Linear(128, num_classes)\n",
    "\n",
    "    def forward(self, x):\n",
    "        x = self.pool(F.relu(self.conv1(x)))\n",
    "        x = self.pool(F.relu(self.conv2(x)))\n",
    "        x = x.view(-1, 64 * 7 * 7)\n",
    "        x = F.relu(self.fc1(x))\n",
    "        x = self.fc2(x)\n",
    "        return x"
   ]
  },
  {
   "cell_type": "code",
   "execution_count": 11,
   "metadata": {},
   "outputs": [],
   "source": [
    "model_cnn = CNN()\n",
    "\n",
    "criterion = nn.CrossEntropyLoss()\n",
    "optimizer = optim.Adam(model_cnn.parameters(), lr=0.001)\n",
    "\n",
    "train_images = train_images.view(-1, 1, 28, 28)\n",
    "test_images = test_images.view(-1, 1, 28, 28)"
   ]
  },
  {
   "cell_type": "code",
   "execution_count": 12,
   "metadata": {
    "id": "nwDuPoSHlKDP"
   },
   "outputs": [
    {
     "name": "stdout",
     "output_type": "stream",
     "text": [
      "Epoch [1/12], Loss: 2.3019\n",
      "Epoch [2/12], Loss: 2.1186\n",
      "Epoch [3/12], Loss: 1.8860\n",
      "Epoch [4/12], Loss: 1.6483\n",
      "Epoch [5/12], Loss: 1.4368\n",
      "Epoch [6/12], Loss: 1.2611\n",
      "Epoch [7/12], Loss: 1.1122\n",
      "Epoch [8/12], Loss: 0.9805\n",
      "Epoch [9/12], Loss: 0.8668\n",
      "Epoch [10/12], Loss: 0.7766\n",
      "Epoch [11/12], Loss: 0.7077\n",
      "Epoch [12/12], Loss: 0.6466\n"
     ]
    }
   ],
   "source": [
    "num_epochs = 12\n",
    "for epoch in range(num_epochs):\n",
    "    model_cnn.train()\n",
    "    outputs = model_cnn(train_images)\n",
    "    loss = criterion(outputs, train_labels)\n",
    "\n",
    "    optimizer.zero_grad()\n",
    "    loss.backward()\n",
    "    optimizer.step()\n",
    "\n",
    "    print(f'Epoch [{epoch+1}/{num_epochs}], Loss: {loss.item():.4f}')"
   ]
  },
  {
   "cell_type": "code",
   "execution_count": 13,
   "metadata": {},
   "outputs": [
    {
     "name": "stdout",
     "output_type": "stream",
     "text": [
      "Test Accuracy: 0.8408\n"
     ]
    }
   ],
   "source": [
    "model_cnn.eval()\n",
    "with torch.no_grad():\n",
    "    test_outputs = model_cnn(test_images)\n",
    "    _, predicted = torch.max(test_outputs, 1)\n",
    "    accuracy = (predicted == test_labels).sum().item() / test_labels.size(0)\n",
    "    print(f'Test Accuracy: {accuracy:.4f}')"
   ]
  }
 ],
 "metadata": {
  "colab": {
   "provenance": []
  },
  "kernelspec": {
   "display_name": "Python 3",
   "name": "python3"
  },
  "language_info": {
   "codemirror_mode": {
    "name": "ipython",
    "version": 3
   },
   "file_extension": ".py",
   "mimetype": "text/x-python",
   "name": "python",
   "nbconvert_exporter": "python",
   "pygments_lexer": "ipython3",
   "version": "3.11.9"
  }
 },
 "nbformat": 4,
 "nbformat_minor": 0
}
